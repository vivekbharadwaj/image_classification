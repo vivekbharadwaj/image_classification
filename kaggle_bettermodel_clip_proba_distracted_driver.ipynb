{
 "cells": [
  {
   "cell_type": "markdown",
   "metadata": {},
   "source": [
    "** What I want to do:** In the previous iteration, I increased my training set by reducing validation subjects to 3. I'll keep this setup. But this time, I want to check whether my predicted probabilities were too sure of themselves, and were consequently getting penalised by the log loss cost function.\n",
    "\n",
    "I'll rerun all the steps, but save weights under different names."
   ]
  },
  {
   "cell_type": "markdown",
   "metadata": {},
   "source": [
    "## Step 1: Reset train and test data"
   ]
  },
  {
   "cell_type": "markdown",
   "metadata": {},
   "source": [
    "Since I'm continuing with the 3 subject model, I can retain my pre-processing setup from the previous iteration...So this means I can skip steps 1 and 2"
   ]
  },
  {
   "cell_type": "markdown",
   "metadata": {},
   "source": [
    "## Step 2 - Split images into training, test, validation and sample sets"
   ]
  },
  {
   "cell_type": "code",
   "execution_count": 1,
   "metadata": {
    "collapsed": false
   },
   "outputs": [
    {
     "name": "stdout",
     "output_type": "stream",
     "text": [
      "/home/ubuntu/distracted_driver/data\n"
     ]
    }
   ],
   "source": [
    "# get image list\n",
    "%cd data/\n",
    "import pandas as pd\n",
    "df_imglist = pd.read_csv('driver_imgs_list.csv')"
   ]
  },
  {
   "cell_type": "markdown",
   "metadata": {},
   "source": [
    "## Step 3: Train vgg model"
   ]
  },
  {
   "cell_type": "code",
   "execution_count": 2,
   "metadata": {
    "collapsed": false
   },
   "outputs": [
    {
     "name": "stdout",
     "output_type": "stream",
     "text": [
      "/home/ubuntu/distracted_driver\n"
     ]
    }
   ],
   "source": [
    "%cd .."
   ]
  },
  {
   "cell_type": "code",
   "execution_count": 3,
   "metadata": {
    "collapsed": false
   },
   "outputs": [
    {
     "name": "stderr",
     "output_type": "stream",
     "text": [
      "WARNING (theano.sandbox.cuda): The cuda backend is deprecated and will be removed in the next release (v0.10).  Please switch to the gpuarray backend. You can get more information about how to switch at this URL:\n",
      " https://github.com/Theano/Theano/wiki/Converting-to-the-new-gpu-back-end%28gpuarray%29\n",
      "\n",
      "Using gpu device 0: Tesla K80 (CNMeM is disabled, cuDNN 5103)\n",
      "Using Theano backend.\n"
     ]
    }
   ],
   "source": [
    "# import utilities and packages\n",
    "%matplotlib inline\n",
    "\n",
    "from __future__ import division, print_function\n",
    "\n",
    "import os, json\n",
    "from glob import glob\n",
    "import numpy as np\n",
    "np.set_printoptions(precision=4, linewidth=100)\n",
    "from matplotlib import pyplot as plt\n",
    "from datetime import datetime\n",
    "import re\n",
    "\n",
    "import utils; reload(utils)\n",
    "from utils import plots\n",
    "from utils import save_array, load_array"
   ]
  },
  {
   "cell_type": "code",
   "execution_count": 4,
   "metadata": {
    "collapsed": true
   },
   "outputs": [],
   "source": [
    "# define locations for training, validation, test and sample sets\n",
    "data_dir = \"data\"\n",
    "train_path = \"data/train/\"\n",
    "test_path = \"data/test/\"\n",
    "validation_path = \"data/valid/\"\n",
    "sample_train_path = \"data/sample/train/\"\n",
    "sample_validation_path = \"data/sample/valid/\"\n",
    "results_path = \"data/results/\""
   ]
  },
  {
   "cell_type": "code",
   "execution_count": 5,
   "metadata": {
    "collapsed": true
   },
   "outputs": [],
   "source": [
    "batch_size = 64"
   ]
  },
  {
   "cell_type": "code",
   "execution_count": 6,
   "metadata": {
    "collapsed": false
   },
   "outputs": [
    {
     "name": "stderr",
     "output_type": "stream",
     "text": [
      "/home/ubuntu/anaconda2/lib/python2.7/site-packages/keras/backend/theano_backend.py:1500: UserWarning: DEPRECATION: the 'ds' parameter is not going to exist anymore as it is going to be replaced by the parameter 'ws'.\n",
      "  mode='max')\n",
      "/home/ubuntu/anaconda2/lib/python2.7/site-packages/keras/backend/theano_backend.py:1500: UserWarning: DEPRECATION: the 'st' parameter is not going to exist anymore as it is going to be replaced by the parameter 'stride'.\n",
      "  mode='max')\n",
      "/home/ubuntu/anaconda2/lib/python2.7/site-packages/keras/backend/theano_backend.py:1500: UserWarning: DEPRECATION: the 'padding' parameter is not going to exist anymore as it is going to be replaced by the parameter 'pad'.\n",
      "  mode='max')\n"
     ]
    }
   ],
   "source": [
    "# import the vgg16 model\n",
    "\n",
    "#import\n",
    "import vgg16; reload(vgg16)\n",
    "from vgg16 import Vgg16\n",
    "\n",
    "#instantiate\n",
    "vgg = Vgg16()"
   ]
  },
  {
   "cell_type": "markdown",
   "metadata": {},
   "source": [
    "In subsequent iterations, finetune one level below the final layer and see if the result improves. \n",
    "\n",
    "If it does, go one level lower.\n",
    "\n",
    "Also, compute log loss on validation set to see how strong it is. Also compute confusion matrix to visualise how bad things are."
   ]
  },
  {
   "cell_type": "markdown",
   "metadata": {},
   "source": [
    "## Step 4: Validate predictions"
   ]
  },
  {
   "cell_type": "markdown",
   "metadata": {},
   "source": [
    "First test whether the predictions were actually good! You can plot confusion matrix and multi-class precision-recall.\n",
    "\n",
    "First, load training weights"
   ]
  },
  {
   "cell_type": "code",
   "execution_count": 7,
   "metadata": {
    "collapsed": true
   },
   "outputs": [],
   "source": [
    "vgg.model.load_weights(results_path+'3_subjects_validation/'+'3subjects_validation_ft_1epoch.h5')"
   ]
  },
  {
   "cell_type": "code",
   "execution_count": 8,
   "metadata": {
    "collapsed": false
   },
   "outputs": [
    {
     "name": "stdout",
     "output_type": "stream",
     "text": [
      "Found 2862 images belonging to 10 classes.\n",
      "CPU times: user 1min 43s, sys: 17.5 s, total: 2min\n",
      "Wall time: 1min 15s\n"
     ]
    }
   ],
   "source": [
    "# now run the weights against validation to predict \n",
    "%time val_batches, val_proba = vgg.test(validation_path,batch_size=batch_size)"
   ]
  },
  {
   "cell_type": "code",
   "execution_count": 9,
   "metadata": {
    "collapsed": false
   },
   "outputs": [],
   "source": [
    "tru_labels = val_batches.classes\n",
    "predicted_proba = val_proba"
   ]
  },
  {
   "cell_type": "code",
   "execution_count": 10,
   "metadata": {
    "collapsed": false
   },
   "outputs": [
    {
     "data": {
      "text/plain": [
       "['c0', 'c1', 'c2', 'c3', 'c4', 'c5', 'c6', 'c7', 'c8', 'c9']"
      ]
     },
     "execution_count": 10,
     "metadata": {},
     "output_type": "execute_result"
    }
   ],
   "source": [
    "sorted(val_batches.class_indices)"
   ]
  },
  {
   "cell_type": "code",
   "execution_count": 11,
   "metadata": {
    "collapsed": false
   },
   "outputs": [
    {
     "data": {
      "text/plain": [
       "(2862, 10)"
      ]
     },
     "execution_count": 11,
     "metadata": {},
     "output_type": "execute_result"
    }
   ],
   "source": [
    "predicted_proba.shape"
   ]
  },
  {
   "cell_type": "code",
   "execution_count": 12,
   "metadata": {
    "collapsed": false
   },
   "outputs": [
    {
     "data": {
      "text/plain": [
       "(2862,)"
      ]
     },
     "execution_count": 12,
     "metadata": {},
     "output_type": "execute_result"
    }
   ],
   "source": [
    "pred_labels = predicted_proba.argmax(1)\n",
    "pred_labels.shape"
   ]
  },
  {
   "cell_type": "code",
   "execution_count": 13,
   "metadata": {
    "collapsed": false
   },
   "outputs": [
    {
     "data": {
      "text/plain": [
       "array([2, 0, 0, 0, 7, 4, 7, 7, 3, 0])"
      ]
     },
     "execution_count": 13,
     "metadata": {},
     "output_type": "execute_result"
    }
   ],
   "source": [
    "pred_labels[:10]"
   ]
  },
  {
   "cell_type": "code",
   "execution_count": 14,
   "metadata": {
    "collapsed": false
   },
   "outputs": [],
   "source": [
    "# check the validity of the predictions using confusion matrix\n",
    "from sklearn.metrics import confusion_matrix\n",
    "cm = confusion_matrix(tru_labels,pred_labels)"
   ]
  },
  {
   "cell_type": "code",
   "execution_count": 15,
   "metadata": {
    "collapsed": false
   },
   "outputs": [
    {
     "data": {
      "text/plain": [
       "array([[112,  20,   2,  44,  38,   4,   2,  55,   1,  12],\n",
       "       [  4, 146,  44,   1,  29,   1,  18,  57,   0,   0],\n",
       "       [  6,   6, 202,   1,   6,   0,  10,  40,  18,   0],\n",
       "       [  0,   7,   1, 177, 103,   0,   3,   1,   1,   0],\n",
       "       [  1,  24,   1,  70, 170,  15,   4,   8,   1,   0],\n",
       "       [  0,   2,   1,   2,  10, 273,   1,   6,   0,   3],\n",
       "       [  0,  22,  51,   5,  21,   0, 136,  51,   6,   0],\n",
       "       [  0,   0,   0,   1,   2,   0,   0, 247,   1,   3],\n",
       "       [  1,   9,  21,   9,   0,   0,  25, 166,  31,   1],\n",
       "       [ 25,  26,   2,  39,  15,   8,   3,  33,   3, 135]])"
      ]
     },
     "execution_count": 15,
     "metadata": {},
     "output_type": "execute_result"
    }
   ],
   "source": [
    "cm"
   ]
  },
  {
   "cell_type": "markdown",
   "metadata": {},
   "source": [
    "For multi-class classification problems, this is a good way of visualising accuracy:\n",
    "The actual values are represented by ROWS. The predicted values are represented by COLUMNS.\n",
    "\n",
    "Notice things such as:\n",
    "- 4 (i.e. the one about people talking on phone with left hand) getting predicted as 3 (i.e. the one about people texting with left hand) incorrectly\n",
    "- 7 (i.e. the one about people fixating on something near the passenger seat) getting predicted as 8(the one about people driving with one hand doing hair and makeup) incorrectly.\n",
    "\n",
    "This could be eliminated by avoiding the extraneous things and focusing the image on the driver actions during pre-processing.\n",
    "\n",
    "For class x:\n",
    "True positive: diagonal position, cm(x, x).\n",
    "False positive: sum of column x (without main diagonal), sum(cm(:, x))-cm(x, x).\n",
    "False negative: sum of row x (without main diagonal), sum(cm(x, :), 2)-cm(x, x)."
   ]
  },
  {
   "cell_type": "code",
   "execution_count": 16,
   "metadata": {
    "collapsed": false
   },
   "outputs": [
    {
     "name": "stdout",
     "output_type": "stream",
     "text": [
      "[[112  20   2  44  38   4   2  55   1  12]\n",
      " [  4 146  44   1  29   1  18  57   0   0]\n",
      " [  6   6 202   1   6   0  10  40  18   0]\n",
      " [  0   7   1 177 103   0   3   1   1   0]\n",
      " [  1  24   1  70 170  15   4   8   1   0]\n",
      " [  0   2   1   2  10 273   1   6   0   3]\n",
      " [  0  22  51   5  21   0 136  51   6   0]\n",
      " [  0   0   0   1   2   0   0 247   1   3]\n",
      " [  1   9  21   9   0   0  25 166  31   1]\n",
      " [ 25  26   2  39  15   8   3  33   3 135]]\n"
     ]
    },
    {
     "data": {
      "image/png": "[encoded data removed]",
      "text/plain": [
       "<matplotlib.figure.Figure at 0x7fe7f9bb7110>"
      ]
     },
     "metadata": {},
     "output_type": "display_data"
    }
   ],
   "source": [
    "from utils import plot_confusion_matrix\n",
    "plot_confusion_matrix(cm,sorted(val_batches.class_indices))"
   ]
  },
  {
   "cell_type": "markdown",
   "metadata": {},
   "source": [
    "## Step 5: Calculate log loss"
   ]
  },
  {
   "cell_type": "markdown",
   "metadata": {},
   "source": [
    "Like we taked about earlier, accuracy will only take you so far. Think cross entropy."
   ]
  },
  {
   "cell_type": "code",
   "execution_count": 82,
   "metadata": {
    "collapsed": false
   },
   "outputs": [
    {
     "data": {
      "text/plain": [
       "nan"
      ]
     },
     "execution_count": 82,
     "metadata": {},
     "output_type": "execute_result"
    }
   ],
   "source": [
    "from sklearn.metrics import log_loss\n",
    "log_loss(y_true=pd.get_dummies(tru_labels)[7],\n",
    "         y_pred=predicted_proba[:,7],\n",
    "         eps=1e-15)"
   ]
  },
  {
   "cell_type": "code",
   "execution_count": 116,
   "metadata": {
    "collapsed": false
   },
   "outputs": [
    {
     "name": "stdout",
     "output_type": "stream",
     "text": [
      "0 : 0.23059337632\n",
      "1 : 0.252839861789\n",
      "2 : 0.190672291031\n",
      "3 : 0.247053554302\n",
      "4 : 0.303517832735\n",
      "5 : 0.088412888378\n",
      "6 : 0.216844378728\n",
      "7 : 0.34488250902\n",
      "8 : 0.298214094944\n",
      "9 : 0.193138029558\n"
     ]
    },
    {
     "data": {
      "text/plain": [
       "2.3661688168049588"
      ]
     },
     "execution_count": 116,
     "metadata": {},
     "output_type": "execute_result"
    }
   ],
   "source": [
    "from sklearn.metrics import log_loss\n",
    "total_logloss=0\n",
    "\n",
    "for classes in range(10):\n",
    "    total_logloss = total_logloss+log_loss(y_true=pd.get_dummies(tru_labels)[classes],\n",
    "                                             y_pred=predicted_proba[:,classes],\n",
    "                                             eps=0.05)\n",
    "    print (classes,':',log_loss(y_true=pd.get_dummies(tru_labels)[classes],\n",
    "                                             y_pred=predicted_proba[:,classes],\n",
    "                                             eps=0.05))\n",
    "total_logloss"
   ]
  },
  {
   "cell_type": "markdown",
   "metadata": {},
   "source": [
    "Using default clip values for eps parameter at 1e-15 results in nans. Based on trial and error, eps=0.05 resulted in the lowest log loss for validation. So i need to clip my submissions by/to 0.05"
   ]
  },
  {
   "cell_type": "markdown",
   "metadata": {},
   "source": [
    "## Step 5: Predict on test set"
   ]
  },
  {
   "cell_type": "code",
   "execution_count": 118,
   "metadata": {
    "collapsed": false
   },
   "outputs": [],
   "source": [
    "# load the 3 subject vlidation submission that you had reasonable scores on. Clip it!\n",
    "test_proba = load_array(results_path + '3_subjects_validation/' + '3subjects_validation_test_preds.dat')\n",
    "filenames = load_array(results_path + '3_subjects_validation/' + '3subjects_validation_filenames.dat')"
   ]
  },
  {
   "cell_type": "markdown",
   "metadata": {},
   "source": [
    "## Step 6: Prepare final submission"
   ]
  },
  {
   "cell_type": "code",
   "execution_count": 119,
   "metadata": {
    "collapsed": true
   },
   "outputs": [],
   "source": [
    "test_proba_clipped = np.clip(test_proba, 0.05,0.95)"
   ]
  },
  {
   "cell_type": "code",
   "execution_count": 123,
   "metadata": {
    "collapsed": false
   },
   "outputs": [
    {
     "name": "stdout",
     "output_type": "stream",
     "text": [
      "(79726, 11)\n"
     ]
    },
    {
     "data": {
      "text/html": [
       "<div>\n",
       "<table border=\"1\" class=\"dataframe\">\n",
       "  <thead>\n",
       "    <tr style=\"text-align: right;\">\n",
       "      <th></th>\n",
       "      <th>img</th>\n",
       "      <th>c0</th>\n",
       "      <th>c1</th>\n",
       "      <th>c2</th>\n",
       "      <th>c3</th>\n",
       "      <th>c4</th>\n",
       "      <th>c5</th>\n",
       "      <th>c6</th>\n",
       "      <th>c7</th>\n",
       "      <th>c8</th>\n",
       "      <th>c9</th>\n",
       "    </tr>\n",
       "  </thead>\n",
       "  <tbody>\n",
       "    <tr>\n",
       "      <th>0</th>\n",
       "      <td>unknown/img_1.jpg</td>\n",
       "      <td>0.050000</td>\n",
       "      <td>0.05</td>\n",
       "      <td>0.05</td>\n",
       "      <td>0.050000</td>\n",
       "      <td>0.050000</td>\n",
       "      <td>0.320872</td>\n",
       "      <td>0.05</td>\n",
       "      <td>0.05</td>\n",
       "      <td>0.147463</td>\n",
       "      <td>0.530289</td>\n",
       "    </tr>\n",
       "    <tr>\n",
       "      <th>1</th>\n",
       "      <td>unknown/img_10.jpg</td>\n",
       "      <td>0.224376</td>\n",
       "      <td>0.05</td>\n",
       "      <td>0.05</td>\n",
       "      <td>0.050000</td>\n",
       "      <td>0.705363</td>\n",
       "      <td>0.050000</td>\n",
       "      <td>0.05</td>\n",
       "      <td>0.05</td>\n",
       "      <td>0.051927</td>\n",
       "      <td>0.050000</td>\n",
       "    </tr>\n",
       "    <tr>\n",
       "      <th>2</th>\n",
       "      <td>unknown/img_100.jpg</td>\n",
       "      <td>0.950000</td>\n",
       "      <td>0.05</td>\n",
       "      <td>0.05</td>\n",
       "      <td>0.050000</td>\n",
       "      <td>0.050000</td>\n",
       "      <td>0.050000</td>\n",
       "      <td>0.05</td>\n",
       "      <td>0.05</td>\n",
       "      <td>0.050000</td>\n",
       "      <td>0.050000</td>\n",
       "    </tr>\n",
       "    <tr>\n",
       "      <th>3</th>\n",
       "      <td>unknown/img_1000.jpg</td>\n",
       "      <td>0.050000</td>\n",
       "      <td>0.05</td>\n",
       "      <td>0.05</td>\n",
       "      <td>0.050000</td>\n",
       "      <td>0.050000</td>\n",
       "      <td>0.050000</td>\n",
       "      <td>0.05</td>\n",
       "      <td>0.05</td>\n",
       "      <td>0.950000</td>\n",
       "      <td>0.050000</td>\n",
       "    </tr>\n",
       "    <tr>\n",
       "      <th>4</th>\n",
       "      <td>unknown/img_100000.jpg</td>\n",
       "      <td>0.050000</td>\n",
       "      <td>0.05</td>\n",
       "      <td>0.05</td>\n",
       "      <td>0.599662</td>\n",
       "      <td>0.055303</td>\n",
       "      <td>0.050000</td>\n",
       "      <td>0.05</td>\n",
       "      <td>0.05</td>\n",
       "      <td>0.293674</td>\n",
       "      <td>0.050000</td>\n",
       "    </tr>\n",
       "  </tbody>\n",
       "</table>\n",
       "</div>"
      ],
      "text/plain": [
       "                      img        c0    c1    c2        c3        c4        c5  \\\n",
       "0       unknown/img_1.jpg  0.050000  0.05  0.05  0.050000  0.050000  0.320872   \n",
       "1      unknown/img_10.jpg  0.224376  0.05  0.05  0.050000  0.705363  0.050000   \n",
       "2     unknown/img_100.jpg  0.950000  0.05  0.05  0.050000  0.050000  0.050000   \n",
       "3    unknown/img_1000.jpg  0.050000  0.05  0.05  0.050000  0.050000  0.050000   \n",
       "4  unknown/img_100000.jpg  0.050000  0.05  0.05  0.599662  0.055303  0.050000   \n",
       "\n",
       "     c6    c7        c8        c9  \n",
       "0  0.05  0.05  0.147463  0.530289  \n",
       "1  0.05  0.05  0.051927  0.050000  \n",
       "2  0.05  0.05  0.050000  0.050000  \n",
       "3  0.05  0.05  0.950000  0.050000  \n",
       "4  0.05  0.05  0.293674  0.050000  "
      ]
     },
     "execution_count": 123,
     "metadata": {},
     "output_type": "execute_result"
    }
   ],
   "source": [
    "import pandas as pd\n",
    "result_cols = ['c'+str(i) for i in np.arange(10)]\n",
    "df_results = pd.concat(\n",
    "    [pd.DataFrame(filenames, columns=['img']),\n",
    "    pd.DataFrame(test_proba_clipped,columns=result_cols)], axis=1\n",
    ")\n",
    "print (df_results.shape)"
   ]
  },
  {
   "cell_type": "code",
   "execution_count": 124,
   "metadata": {
    "collapsed": true
   },
   "outputs": [],
   "source": [
    "# removing the unknown tag from the image name\n",
    "df_results['img'] = df_results.img.apply(lambda x:x.split('/')[1])"
   ]
  },
  {
   "cell_type": "code",
   "execution_count": 125,
   "metadata": {
    "collapsed": false
   },
   "outputs": [
    {
     "data": {
      "text/html": [
       "<div>\n",
       "<table border=\"1\" class=\"dataframe\">\n",
       "  <thead>\n",
       "    <tr style=\"text-align: right;\">\n",
       "      <th></th>\n",
       "      <th>img</th>\n",
       "      <th>c0</th>\n",
       "      <th>c1</th>\n",
       "      <th>c2</th>\n",
       "      <th>c3</th>\n",
       "      <th>c4</th>\n",
       "      <th>c5</th>\n",
       "      <th>c6</th>\n",
       "      <th>c7</th>\n",
       "      <th>c8</th>\n",
       "      <th>c9</th>\n",
       "    </tr>\n",
       "  </thead>\n",
       "  <tbody>\n",
       "    <tr>\n",
       "      <th>0</th>\n",
       "      <td>img_1.jpg</td>\n",
       "      <td>0.050000</td>\n",
       "      <td>0.05</td>\n",
       "      <td>0.05</td>\n",
       "      <td>0.050000</td>\n",
       "      <td>0.050000</td>\n",
       "      <td>0.320872</td>\n",
       "      <td>0.05</td>\n",
       "      <td>0.05</td>\n",
       "      <td>0.147463</td>\n",
       "      <td>0.530289</td>\n",
       "    </tr>\n",
       "    <tr>\n",
       "      <th>1</th>\n",
       "      <td>img_10.jpg</td>\n",
       "      <td>0.224376</td>\n",
       "      <td>0.05</td>\n",
       "      <td>0.05</td>\n",
       "      <td>0.050000</td>\n",
       "      <td>0.705363</td>\n",
       "      <td>0.050000</td>\n",
       "      <td>0.05</td>\n",
       "      <td>0.05</td>\n",
       "      <td>0.051927</td>\n",
       "      <td>0.050000</td>\n",
       "    </tr>\n",
       "    <tr>\n",
       "      <th>2</th>\n",
       "      <td>img_100.jpg</td>\n",
       "      <td>0.950000</td>\n",
       "      <td>0.05</td>\n",
       "      <td>0.05</td>\n",
       "      <td>0.050000</td>\n",
       "      <td>0.050000</td>\n",
       "      <td>0.050000</td>\n",
       "      <td>0.05</td>\n",
       "      <td>0.05</td>\n",
       "      <td>0.050000</td>\n",
       "      <td>0.050000</td>\n",
       "    </tr>\n",
       "    <tr>\n",
       "      <th>3</th>\n",
       "      <td>img_1000.jpg</td>\n",
       "      <td>0.050000</td>\n",
       "      <td>0.05</td>\n",
       "      <td>0.05</td>\n",
       "      <td>0.050000</td>\n",
       "      <td>0.050000</td>\n",
       "      <td>0.050000</td>\n",
       "      <td>0.05</td>\n",
       "      <td>0.05</td>\n",
       "      <td>0.950000</td>\n",
       "      <td>0.050000</td>\n",
       "    </tr>\n",
       "    <tr>\n",
       "      <th>4</th>\n",
       "      <td>img_100000.jpg</td>\n",
       "      <td>0.050000</td>\n",
       "      <td>0.05</td>\n",
       "      <td>0.05</td>\n",
       "      <td>0.599662</td>\n",
       "      <td>0.055303</td>\n",
       "      <td>0.050000</td>\n",
       "      <td>0.05</td>\n",
       "      <td>0.05</td>\n",
       "      <td>0.293674</td>\n",
       "      <td>0.050000</td>\n",
       "    </tr>\n",
       "  </tbody>\n",
       "</table>\n",
       "</div>"
      ],
      "text/plain": [
       "              img        c0    c1    c2        c3        c4        c5    c6  \\\n",
       "0       img_1.jpg  0.050000  0.05  0.05  0.050000  0.050000  0.320872  0.05   \n",
       "1      img_10.jpg  0.224376  0.05  0.05  0.050000  0.705363  0.050000  0.05   \n",
       "2     img_100.jpg  0.950000  0.05  0.05  0.050000  0.050000  0.050000  0.05   \n",
       "3    img_1000.jpg  0.050000  0.05  0.05  0.050000  0.050000  0.050000  0.05   \n",
       "4  img_100000.jpg  0.050000  0.05  0.05  0.599662  0.055303  0.050000  0.05   \n",
       "\n",
       "     c7        c8        c9  \n",
       "0  0.05  0.147463  0.530289  \n",
       "1  0.05  0.051927  0.050000  \n",
       "2  0.05  0.050000  0.050000  \n",
       "3  0.05  0.950000  0.050000  \n",
       "4  0.05  0.293674  0.050000  "
      ]
     },
     "execution_count": 125,
     "metadata": {},
     "output_type": "execute_result"
    }
   ],
   "source": [
    "df_results.head()"
   ]
  },
  {
   "cell_type": "code",
   "execution_count": 128,
   "metadata": {
    "collapsed": false
   },
   "outputs": [
    {
     "data": {
      "text/html": [
       "<a href='data/results/3_subjects_validation/3subjects_validation_clipped_submission3.csv' target='_blank'>data/results/3_subjects_validation/3subjects_validation_clipped_submission3.csv</a><br>"
      ],
      "text/plain": [
       "/home/ubuntu/distracted_driver/data/results/3_subjects_validation/3subjects_validation_clipped_submission3.csv"
      ]
     },
     "execution_count": 128,
     "metadata": {},
     "output_type": "execute_result"
    }
   ],
   "source": [
    "# save to results\n",
    "df_results.to_csv(results_path+ '3_subjects_validation/' +'3subjects_validation_clipped_submission3.csv',index=False)\n",
    "\n",
    "from IPython.display import FileLink\n",
    "FileLink(results_path+ '3_subjects_validation/' +'3subjects_validation_clipped_submission3.csv')"
   ]
  },
  {
   "cell_type": "markdown",
   "metadata": {},
   "source": [
    "This results in a score of 1.575. Much better but still needs work. Use lesson 2 logix now."
   ]
  }
 ],
 "metadata": {
  "anaconda-cloud": {},
  "kernelspec": {
   "display_name": "Python [conda root]",
   "language": "python",
   "name": "conda-root-py"
  },
  "language_info": {
   "codemirror_mode": {
    "name": "ipython",
    "version": 2
   },
   "file_extension": ".py",
   "mimetype": "text/x-python",
   "name": "python",
   "nbconvert_exporter": "python",
   "pygments_lexer": "ipython2",
   "version": "2.7.12"
  }
 },
 "nbformat": 4,
 "nbformat_minor": 1
}
