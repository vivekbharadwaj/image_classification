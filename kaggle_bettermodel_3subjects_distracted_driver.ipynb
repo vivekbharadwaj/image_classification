{
 "cells": [
  {
   "cell_type": "markdown",
   "metadata": {},
   "source": [
    "** What I want to do:** Having 5 subjects in validtion set resulted in lower accuracy because I'm guessing we simply didnt have enough data to train with. Increasing training size might result in better accuracy.\n",
    "\n",
    "I'll rerun all the steps, but save weights under different names."
   ]
  },
  {
   "cell_type": "markdown",
   "metadata": {},
   "source": [
    "## Step 1: Reset train and test data"
   ]
  },
  {
   "cell_type": "code",
   "execution_count": 1,
   "metadata": {
    "collapsed": false
   },
   "outputs": [
    {
     "name": "stdout",
     "output_type": "stream",
     "text": [
      "/home/ubuntu/distracted_driver/data\n"
     ]
    }
   ],
   "source": [
    "%cd data/"
   ]
  },
  {
   "cell_type": "code",
   "execution_count": 2,
   "metadata": {
    "collapsed": true
   },
   "outputs": [],
   "source": [
    "!rm -rf train/\n",
    "!rm -rf test/\n",
    "!rm -rf valid/\n",
    "!rm -rf sample/"
   ]
  },
  {
   "cell_type": "code",
   "execution_count": 4,
   "metadata": {
    "collapsed": true
   },
   "outputs": [],
   "source": [
    "#!unzip imgs.zip"
   ]
  },
  {
   "cell_type": "code",
   "execution_count": 5,
   "metadata": {
    "collapsed": false
   },
   "outputs": [
    {
     "name": "stdout",
     "output_type": "stream",
     "text": [
      "c0  c1\tc2  c3\tc4  c5\tc6  c7\tc8  c9\n",
      "79726\n"
     ]
    }
   ],
   "source": [
    "!ls train/\n",
    "!ls test/ | wc -l"
   ]
  },
  {
   "cell_type": "markdown",
   "metadata": {},
   "source": [
    "## Step 2 - Split images into training, test, validation and sample sets"
   ]
  },
  {
   "cell_type": "code",
   "execution_count": 6,
   "metadata": {
    "collapsed": true
   },
   "outputs": [],
   "source": [
    "# get image list\n",
    "import pandas as pd\n",
    "df_imglist = pd.read_csv('driver_imgs_list.csv')"
   ]
  },
  {
   "cell_type": "code",
   "execution_count": 10,
   "metadata": {
    "collapsed": false
   },
   "outputs": [],
   "source": [
    "# copy 3 subjects to validation\n",
    "import numpy as np\n",
    "import os,sys,shutil\n",
    "from numpy import random\n",
    "from numpy.random import RandomState\n",
    "ddrandom = RandomState(42)\n",
    "validation_subjects = ddrandom.choice(df_imglist.subject.unique(),size=3)"
   ]
  },
  {
   "cell_type": "code",
   "execution_count": 11,
   "metadata": {
    "collapsed": false
   },
   "outputs": [
    {
     "name": "stdout",
     "output_type": "stream",
     "text": [
      "Moved 254 images in class c7:\n",
      "Moved 263 images in class c8:\n",
      "Moved 292 images in class c6:\n",
      "Moved 290 images in class c0:\n",
      "Moved 289 images in class c2:\n",
      "Moved 294 images in class c4:\n",
      "Moved 289 images in class c9:\n",
      "Moved 300 images in class c1:\n",
      "Moved 293 images in class c3:\n",
      "Moved 298 images in class c5:\n"
     ]
    }
   ],
   "source": [
    "# first create validation directory if does not exist\n",
    "if not os.path.isdir('valid'):\n",
    "    !mkdir valid\n",
    "\n",
    "for distraction_classes in os.listdir('train'):\n",
    "    # create class sub-directory if does not exist\n",
    "    if not os.path.isdir(os.path.join('valid',distraction_classes)):\n",
    "        temp_filename = os.path.join('valid',distraction_classes)\n",
    "        !mkdir $temp_filename\n",
    "    \n",
    "    # perform a check for each image in training class\n",
    "    img_move_counter = 0\n",
    "    for images in os.listdir(os.path.join('train',distraction_classes)):\n",
    "        if (images==df_imglist[df_imglist.subject.isin(validation_subjects)]['img']).any():\n",
    "            shutil.move(os.path.join('train',distraction_classes,images), \n",
    "                        os.path.join('valid',distraction_classes,images))\n",
    "            img_move_counter+=1\n",
    "    \n",
    "    # print completion status after each class\n",
    "    print ('Moved {} images in class {}:'.format(str(img_move_counter),distraction_classes))"
   ]
  },
  {
   "cell_type": "code",
   "execution_count": 12,
   "metadata": {
    "collapsed": false
   },
   "outputs": [
    {
     "name": "stdout",
     "output_type": "stream",
     "text": [
      "Copied 17 images to sample in class train/c7:\n",
      "Copied 16 images to sample in class train/c8:\n",
      "Copied 20 images to sample in class train/c6:\n",
      "Copied 21 images to sample in class train/c0:\n",
      "Copied 20 images to sample in class train/c2:\n",
      "Copied 20 images to sample in class train/c4:\n",
      "Copied 18 images to sample in class train/c9:\n",
      "Copied 19 images to sample in class train/c1:\n",
      "Copied 20 images to sample in class train/c3:\n",
      "Copied 20 images to sample in class train/c5:\n",
      "Copied 2 images to sample in class valid/c7:\n",
      "Copied 2 images to sample in class valid/c8:\n",
      "Copied 2 images to sample in class valid/c6:\n",
      "Copied 2 images to sample in class valid/c0:\n",
      "Copied 2 images to sample in class valid/c2:\n",
      "Copied 2 images to sample in class valid/c4:\n",
      "Copied 2 images to sample in class valid/c9:\n",
      "Copied 3 images to sample in class valid/c1:\n",
      "Copied 2 images to sample in class valid/c3:\n",
      "Copied 2 images to sample in class valid/c5:\n"
     ]
    }
   ],
   "source": [
    "# Copy 1% of training and validation data into sample training and validation set\n",
    "# first create sample directory if does not exist\n",
    "if not os.path.isdir('sample'):\n",
    "    !mkdir sample\n",
    "    \n",
    "for directories in ['train','valid']:\n",
    "    for distraction_classes in os.listdir(directories):\n",
    "        \n",
    "        # initialise number of samples and filenames for copying\n",
    "        number_of_samples = int(0.01*len(os.listdir(os.path.join(directories,distraction_classes))))\n",
    "        all_filenames = os.listdir(os.path.join(directories,distraction_classes))\n",
    "        img_cp_counter=0\n",
    "        \n",
    "        # run loop for copying\n",
    "        for images in ddrandom.choice(all_filenames,number_of_samples):\n",
    "            \n",
    "            # create sample directory and sub-directory to put image into if does not exist\n",
    "            if not os.path.isdir(os.path.join('sample',directories)):\n",
    "                temp_filename = os.path.join('sample',directories)\n",
    "                !mkdir $temp_filename            \n",
    "            if not os.path.isdir(os.path.join('sample',directories,distraction_classes)):\n",
    "                temp_filename = os.path.join('sample',directories,distraction_classes)\n",
    "                !mkdir $temp_filename\n",
    "            \n",
    "            shutil.copy2(os.path.join(directories,distraction_classes,images),\n",
    "                        os.path.join('sample',directories,distraction_classes,images))\n",
    "            \n",
    "            img_cp_counter+=1\n",
    "        \n",
    "        # print completion status after each class\n",
    "        print ('Copied {} images to sample in class {}:'.format(str(img_cp_counter),directories+'/'+distraction_classes))"
   ]
  },
  {
   "cell_type": "markdown",
   "metadata": {},
   "source": [
    "## Step 3: Train vgg model"
   ]
  },
  {
   "cell_type": "code",
   "execution_count": null,
   "metadata": {
    "collapsed": true
   },
   "outputs": [],
   "source": []
  }
 ],
 "metadata": {
  "anaconda-cloud": {},
  "kernelspec": {
   "display_name": "Python [conda root]",
   "language": "python",
   "name": "conda-root-py"
  },
  "language_info": {
   "codemirror_mode": {
    "name": "ipython",
    "version": 2
   },
   "file_extension": ".py",
   "mimetype": "text/x-python",
   "name": "python",
   "nbconvert_exporter": "python",
   "pygments_lexer": "ipython2",
   "version": "2.7.12"
  }
 },
 "nbformat": 4,
 "nbformat_minor": 1
}
