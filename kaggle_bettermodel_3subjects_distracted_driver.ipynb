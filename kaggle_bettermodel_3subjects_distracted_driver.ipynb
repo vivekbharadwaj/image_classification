{
 "cells": [
  {
   "cell_type": "markdown",
   "metadata": {},
   "source": [
    "** What I want to do:** Having 5 subjects in validtion set resulted in lower accuracy because I'm guessing we simply didnt have enough data to train with. Increasing training size might result in better accuracy.\n",
    "\n",
    "I'll rerun all the steps, but save weights under different names."
   ]
  },
  {
   "cell_type": "markdown",
   "metadata": {},
   "source": [
    "## Step 1: Reset train and test data"
   ]
  },
  {
   "cell_type": "code",
   "execution_count": 2,
   "metadata": {
    "collapsed": false
   },
   "outputs": [
    {
     "name": "stdout",
     "output_type": "stream",
     "text": [
      "/home/ubuntu/distracted_driver/data\n"
     ]
    }
   ],
   "source": [
    "%cd data/"
   ]
  },
  {
   "cell_type": "code",
   "execution_count": 2,
   "metadata": {
    "collapsed": true
   },
   "outputs": [],
   "source": [
    "!rm -rf train/\n",
    "!rm -rf test/\n",
    "!rm -rf valid/\n",
    "!rm -rf sample/"
   ]
  },
  {
   "cell_type": "code",
   "execution_count": 4,
   "metadata": {
    "collapsed": true
   },
   "outputs": [],
   "source": [
    "#!unzip imgs.zip"
   ]
  },
  {
   "cell_type": "code",
   "execution_count": 5,
   "metadata": {
    "collapsed": false
   },
   "outputs": [
    {
     "name": "stdout",
     "output_type": "stream",
     "text": [
      "c0  c1\tc2  c3\tc4  c5\tc6  c7\tc8  c9\n",
      "79726\n"
     ]
    }
   ],
   "source": [
    "!ls train/\n",
    "!ls test/ | wc -l"
   ]
  },
  {
   "cell_type": "markdown",
   "metadata": {},
   "source": [
    "## Step 2 - Split images into training, test, validation and sample sets"
   ]
  },
  {
   "cell_type": "code",
   "execution_count": 3,
   "metadata": {
    "collapsed": false
   },
   "outputs": [],
   "source": [
    "# get image list\n",
    "import pandas as pd\n",
    "df_imglist = pd.read_csv('driver_imgs_list.csv')"
   ]
  },
  {
   "cell_type": "code",
   "execution_count": 10,
   "metadata": {
    "collapsed": false
   },
   "outputs": [],
   "source": [
    "# copy 3 subjects to validation\n",
    "import numpy as np\n",
    "import os,sys,shutil\n",
    "from numpy import random\n",
    "from numpy.random import RandomState\n",
    "ddrandom = RandomState(42)\n",
    "validation_subjects = ddrandom.choice(df_imglist.subject.unique(),size=3)"
   ]
  },
  {
   "cell_type": "code",
   "execution_count": 11,
   "metadata": {
    "collapsed": false
   },
   "outputs": [
    {
     "name": "stdout",
     "output_type": "stream",
     "text": [
      "Moved 254 images in class c7:\n",
      "Moved 263 images in class c8:\n",
      "Moved 292 images in class c6:\n",
      "Moved 290 images in class c0:\n",
      "Moved 289 images in class c2:\n",
      "Moved 294 images in class c4:\n",
      "Moved 289 images in class c9:\n",
      "Moved 300 images in class c1:\n",
      "Moved 293 images in class c3:\n",
      "Moved 298 images in class c5:\n"
     ]
    }
   ],
   "source": [
    "# first create validation directory if does not exist\n",
    "if not os.path.isdir('valid'):\n",
    "    !mkdir valid\n",
    "\n",
    "for distraction_classes in os.listdir('train'):\n",
    "    # create class sub-directory if does not exist\n",
    "    if not os.path.isdir(os.path.join('valid',distraction_classes)):\n",
    "        temp_filename = os.path.join('valid',distraction_classes)\n",
    "        !mkdir $temp_filename\n",
    "    \n",
    "    # perform a check for each image in training class\n",
    "    img_move_counter = 0\n",
    "    for images in os.listdir(os.path.join('train',distraction_classes)):\n",
    "        if (images==df_imglist[df_imglist.subject.isin(validation_subjects)]['img']).any():\n",
    "            shutil.move(os.path.join('train',distraction_classes,images), \n",
    "                        os.path.join('valid',distraction_classes,images))\n",
    "            img_move_counter+=1\n",
    "    \n",
    "    # print completion status after each class\n",
    "    print ('Moved {} images in class {}:'.format(str(img_move_counter),distraction_classes))"
   ]
  },
  {
   "cell_type": "code",
   "execution_count": 12,
   "metadata": {
    "collapsed": false
   },
   "outputs": [
    {
     "name": "stdout",
     "output_type": "stream",
     "text": [
      "Copied 17 images to sample in class train/c7:\n",
      "Copied 16 images to sample in class train/c8:\n",
      "Copied 20 images to sample in class train/c6:\n",
      "Copied 21 images to sample in class train/c0:\n",
      "Copied 20 images to sample in class train/c2:\n",
      "Copied 20 images to sample in class train/c4:\n",
      "Copied 18 images to sample in class train/c9:\n",
      "Copied 19 images to sample in class train/c1:\n",
      "Copied 20 images to sample in class train/c3:\n",
      "Copied 20 images to sample in class train/c5:\n",
      "Copied 2 images to sample in class valid/c7:\n",
      "Copied 2 images to sample in class valid/c8:\n",
      "Copied 2 images to sample in class valid/c6:\n",
      "Copied 2 images to sample in class valid/c0:\n",
      "Copied 2 images to sample in class valid/c2:\n",
      "Copied 2 images to sample in class valid/c4:\n",
      "Copied 2 images to sample in class valid/c9:\n",
      "Copied 3 images to sample in class valid/c1:\n",
      "Copied 2 images to sample in class valid/c3:\n",
      "Copied 2 images to sample in class valid/c5:\n"
     ]
    }
   ],
   "source": [
    "# Copy 1% of training and validation data into sample training and validation set\n",
    "# first create sample directory if does not exist\n",
    "if not os.path.isdir('sample'):\n",
    "    !mkdir sample\n",
    "    \n",
    "for directories in ['train','valid']:\n",
    "    for distraction_classes in os.listdir(directories):\n",
    "        \n",
    "        # initialise number of samples and filenames for copying\n",
    "        number_of_samples = int(0.01*len(os.listdir(os.path.join(directories,distraction_classes))))\n",
    "        all_filenames = os.listdir(os.path.join(directories,distraction_classes))\n",
    "        img_cp_counter=0\n",
    "        \n",
    "        # run loop for copying\n",
    "        for images in ddrandom.choice(all_filenames,number_of_samples):\n",
    "            \n",
    "            # create sample directory and sub-directory to put image into if does not exist\n",
    "            if not os.path.isdir(os.path.join('sample',directories)):\n",
    "                temp_filename = os.path.join('sample',directories)\n",
    "                !mkdir $temp_filename            \n",
    "            if not os.path.isdir(os.path.join('sample',directories,distraction_classes)):\n",
    "                temp_filename = os.path.join('sample',directories,distraction_classes)\n",
    "                !mkdir $temp_filename\n",
    "            \n",
    "            shutil.copy2(os.path.join(directories,distraction_classes,images),\n",
    "                        os.path.join('sample',directories,distraction_classes,images))\n",
    "            \n",
    "            img_cp_counter+=1\n",
    "        \n",
    "        # print completion status after each class\n",
    "        print ('Copied {} images to sample in class {}:'.format(str(img_cp_counter),directories+'/'+distraction_classes))"
   ]
  },
  {
   "cell_type": "markdown",
   "metadata": {},
   "source": [
    "## Step 3: Train vgg model"
   ]
  },
  {
   "cell_type": "code",
   "execution_count": 5,
   "metadata": {
    "collapsed": false
   },
   "outputs": [
    {
     "name": "stdout",
     "output_type": "stream",
     "text": [
      "/home/ubuntu/distracted_driver\n"
     ]
    }
   ],
   "source": [
    "#%cd .."
   ]
  },
  {
   "cell_type": "code",
   "execution_count": 1,
   "metadata": {
    "collapsed": false
   },
   "outputs": [
    {
     "name": "stderr",
     "output_type": "stream",
     "text": [
      "WARNING (theano.sandbox.cuda): The cuda backend is deprecated and will be removed in the next release (v0.10).  Please switch to the gpuarray backend. You can get more information about how to switch at this URL:\n",
      " https://github.com/Theano/Theano/wiki/Converting-to-the-new-gpu-back-end%28gpuarray%29\n",
      "\n",
      "Using gpu device 0: Tesla K80 (CNMeM is disabled, cuDNN 5103)\n",
      "Using Theano backend.\n"
     ]
    }
   ],
   "source": [
    "# import utilities and packages\n",
    "%matplotlib inline\n",
    "\n",
    "from __future__ import division, print_function\n",
    "\n",
    "import os, json\n",
    "from glob import glob\n",
    "import numpy as np\n",
    "np.set_printoptions(precision=4, linewidth=100)\n",
    "from matplotlib import pyplot as plt\n",
    "from datetime import datetime\n",
    "import re\n",
    "\n",
    "import utils; reload(utils)\n",
    "from utils import plots\n",
    "from utils import save_array, load_array"
   ]
  },
  {
   "cell_type": "code",
   "execution_count": 2,
   "metadata": {
    "collapsed": true
   },
   "outputs": [],
   "source": [
    "# define locations for training, validation, test and sample sets\n",
    "data_dir = \"data\"\n",
    "train_path = \"data/train/\"\n",
    "test_path = \"data/test/\"\n",
    "validation_path = \"data/valid/\"\n",
    "sample_train_path = \"data/sample/train/\"\n",
    "sample_validation_path = \"data/sample/valid/\"\n",
    "results_path = \"data/results/\""
   ]
  },
  {
   "cell_type": "code",
   "execution_count": 3,
   "metadata": {
    "collapsed": true
   },
   "outputs": [],
   "source": [
    "batch_size = 64"
   ]
  },
  {
   "cell_type": "code",
   "execution_count": 4,
   "metadata": {
    "collapsed": false
   },
   "outputs": [
    {
     "name": "stderr",
     "output_type": "stream",
     "text": [
      "/home/ubuntu/anaconda2/lib/python2.7/site-packages/keras/backend/theano_backend.py:1500: UserWarning: DEPRECATION: the 'ds' parameter is not going to exist anymore as it is going to be replaced by the parameter 'ws'.\n",
      "  mode='max')\n",
      "/home/ubuntu/anaconda2/lib/python2.7/site-packages/keras/backend/theano_backend.py:1500: UserWarning: DEPRECATION: the 'st' parameter is not going to exist anymore as it is going to be replaced by the parameter 'stride'.\n",
      "  mode='max')\n",
      "/home/ubuntu/anaconda2/lib/python2.7/site-packages/keras/backend/theano_backend.py:1500: UserWarning: DEPRECATION: the 'padding' parameter is not going to exist anymore as it is going to be replaced by the parameter 'pad'.\n",
      "  mode='max')\n"
     ]
    }
   ],
   "source": [
    "# import the vgg16 model\n",
    "\n",
    "#import\n",
    "import vgg16; reload(vgg16)\n",
    "from vgg16 import Vgg16\n",
    "\n",
    "#instantiate\n",
    "vgg = Vgg16()"
   ]
  },
  {
   "cell_type": "code",
   "execution_count": 5,
   "metadata": {
    "collapsed": false
   },
   "outputs": [
    {
     "name": "stdout",
     "output_type": "stream",
     "text": [
      "Found 19562 images belonging to 10 classes.\n",
      "Found 2862 images belonging to 10 classes.\n"
     ]
    }
   ],
   "source": [
    "batches = vgg.get_batches(train_path, batch_size=batch_size)\n",
    "val_batches = vgg.get_batches(validation_path, batch_size=batch_size*2)"
   ]
  },
  {
   "cell_type": "code",
   "execution_count": 6,
   "metadata": {
    "collapsed": true
   },
   "outputs": [],
   "source": [
    "# this is something you need to attack next. Jeremy thinks there is no reason why \n",
    "# finetuning the final layer should lead to good results\n",
    "vgg.finetune(batches)"
   ]
  },
  {
   "cell_type": "code",
   "execution_count": 7,
   "metadata": {
    "collapsed": false
   },
   "outputs": [
    {
     "name": "stdout",
     "output_type": "stream",
     "text": [
      "Epoch 1/1\n",
      "19562/19562 [==============================] - 585s - loss: 1.8564 - acc: 0.6118 - val_loss: 1.7817 - val_acc: 0.5692\n",
      "timedelta =  0:09:56\n"
     ]
    }
   ],
   "source": [
    "# start logging time to execute\n",
    "starttime = datetime.now().strftime('%Y-%m-%d %H:%M:%S')\n",
    "\n",
    "vgg.fit(batches, val_batches, nb_epoch=1)\n",
    "\n",
    "# log time for when the process ends\n",
    "endtime = datetime.now().strftime('%Y-%m-%d %H:%M:%S')\n",
    "print (\"timedelta = \", datetime.strptime(endtime,'%Y-%m-%d %H:%M:%S') - datetime.strptime(starttime,'%Y-%m-%d %H:%M:%S'))"
   ]
  },
  {
   "cell_type": "code",
   "execution_count": 8,
   "metadata": {
    "collapsed": true
   },
   "outputs": [],
   "source": [
    "# save weights of the 1st epoch\n",
    "vgg.model.save_weights(results_path+'3subjects_validation_ft_1epoch.h5')"
   ]
  },
  {
   "cell_type": "markdown",
   "metadata": {},
   "source": [
    "In subsequent iterations, clip your model probabilities to be less sure of an answer. This is because your model accuracy is shite anyway. \n",
    "\n",
    "Also, finetune one level below the final layer and see if the result improves. \n",
    "\n",
    "If it does, go one level lower.\n",
    "\n",
    "Also, compute log loss on validation set to see how strong it is. Also compute confusion matrix to visualise how bad things are."
   ]
  },
  {
   "cell_type": "markdown",
   "metadata": {},
   "source": [
    "## Step 4: Validate model"
   ]
  },
  {
   "cell_type": "markdown",
   "metadata": {},
   "source": [
    "Skip this part in this iteration. Go to the submission part."
   ]
  },
  {
   "cell_type": "markdown",
   "metadata": {},
   "source": [
    "## Step 5: Predict on test set"
   ]
  },
  {
   "cell_type": "code",
   "execution_count": 5,
   "metadata": {
    "collapsed": true
   },
   "outputs": [],
   "source": [
    "vgg.model.load_weights(results_path+'3subjects_validation_ft_1epoch.h5')"
   ]
  },
  {
   "cell_type": "code",
   "execution_count": 7,
   "metadata": {
    "collapsed": false
   },
   "outputs": [],
   "source": [
    "# for the vgg.test method to run, all images need to be part of another class.\n",
    "# Lets call it 'unknown'\n",
    "tempdir = test_path+'unknown'\n",
    "!mkdir $tempdir"
   ]
  },
  {
   "cell_type": "code",
   "execution_count": 8,
   "metadata": {
    "collapsed": false
   },
   "outputs": [
    {
     "name": "stdout",
     "output_type": "stream",
     "text": [
      "79726 images moved to unknown folder.\n"
     ]
    }
   ],
   "source": [
    "img_mv_counter = 0\n",
    "for img in os.listdir(test_path):\n",
    "    if os.path.isfile(os.path.join(test_path,img)):\n",
    "        os.rename(os.path.join(test_path,img),os.path.join(test_path,'unknown',img))\n",
    "        img_mv_counter+=1\n",
    "print (\"{} images moved to unknown folder.\".format(str(img_mv_counter)))"
   ]
  },
  {
   "cell_type": "code",
   "execution_count": 13,
   "metadata": {
    "collapsed": false
   },
   "outputs": [
    {
     "name": "stdout",
     "output_type": "stream",
     "text": [
      "Found 79726 images belonging to 1 classes.\n",
      "timedelta =  0:34:04\n"
     ]
    }
   ],
   "source": [
    "# start logging time to execute\n",
    "starttime = datetime.now().strftime('%Y-%m-%d %H:%M:%S')\n",
    "\n",
    "test_batches, test_proba = vgg.test(test_path, batch_size = 64)\n",
    "\n",
    "# log time for when the process ends\n",
    "endtime = datetime.now().strftime('%Y-%m-%d %H:%M:%S')\n",
    "print (\"timedelta = \", datetime.strptime(endtime,'%Y-%m-%d %H:%M:%S') - datetime.strptime(starttime,'%Y-%m-%d %H:%M:%S'))"
   ]
  },
  {
   "cell_type": "code",
   "execution_count": 14,
   "metadata": {
    "collapsed": false
   },
   "outputs": [],
   "source": [
    "save_array(results_path + '3subjects_validation_test_preds.dat', test_proba)\n",
    "save_array(results_path + '3subjects_validation_filenames.dat', test_batches.filenames)"
   ]
  },
  {
   "cell_type": "markdown",
   "metadata": {},
   "source": [
    "## Step 6: Prepare final submission"
   ]
  },
  {
   "cell_type": "code",
   "execution_count": 15,
   "metadata": {
    "collapsed": false
   },
   "outputs": [
    {
     "name": "stdout",
     "output_type": "stream",
     "text": [
      "(79726, 11)\n"
     ]
    },
    {
     "data": {
      "text/html": [
       "<div>\n",
       "<table border=\"1\" class=\"dataframe\">\n",
       "  <thead>\n",
       "    <tr style=\"text-align: right;\">\n",
       "      <th></th>\n",
       "      <th>img</th>\n",
       "      <th>c0</th>\n",
       "      <th>c1</th>\n",
       "      <th>c2</th>\n",
       "      <th>c3</th>\n",
       "      <th>c4</th>\n",
       "      <th>c5</th>\n",
       "      <th>c6</th>\n",
       "      <th>c7</th>\n",
       "      <th>c8</th>\n",
       "      <th>c9</th>\n",
       "    </tr>\n",
       "  </thead>\n",
       "  <tbody>\n",
       "    <tr>\n",
       "      <th>0</th>\n",
       "      <td>unknown/img_1.jpg</td>\n",
       "      <td>1.048789e-05</td>\n",
       "      <td>9.500974e-05</td>\n",
       "      <td>6.204220e-04</td>\n",
       "      <td>5.290291e-04</td>\n",
       "      <td>5.379053e-05</td>\n",
       "      <td>3.208719e-01</td>\n",
       "      <td>8.911347e-07</td>\n",
       "      <td>6.649228e-05</td>\n",
       "      <td>0.147463</td>\n",
       "      <td>5.302886e-01</td>\n",
       "    </tr>\n",
       "    <tr>\n",
       "      <th>1</th>\n",
       "      <td>unknown/img_10.jpg</td>\n",
       "      <td>2.243764e-01</td>\n",
       "      <td>1.297860e-03</td>\n",
       "      <td>6.529220e-07</td>\n",
       "      <td>6.650519e-06</td>\n",
       "      <td>7.053635e-01</td>\n",
       "      <td>8.519089e-03</td>\n",
       "      <td>4.642937e-03</td>\n",
       "      <td>3.558198e-06</td>\n",
       "      <td>0.051927</td>\n",
       "      <td>3.862250e-03</td>\n",
       "    </tr>\n",
       "    <tr>\n",
       "      <th>2</th>\n",
       "      <td>unknown/img_100.jpg</td>\n",
       "      <td>9.649227e-01</td>\n",
       "      <td>3.491086e-02</td>\n",
       "      <td>3.665324e-10</td>\n",
       "      <td>9.536329e-14</td>\n",
       "      <td>3.299019e-10</td>\n",
       "      <td>4.643474e-09</td>\n",
       "      <td>8.743167e-07</td>\n",
       "      <td>1.611529e-04</td>\n",
       "      <td>0.000004</td>\n",
       "      <td>6.297035e-07</td>\n",
       "    </tr>\n",
       "    <tr>\n",
       "      <th>3</th>\n",
       "      <td>unknown/img_1000.jpg</td>\n",
       "      <td>8.633835e-09</td>\n",
       "      <td>1.010079e-08</td>\n",
       "      <td>8.227801e-05</td>\n",
       "      <td>8.352095e-07</td>\n",
       "      <td>1.391661e-02</td>\n",
       "      <td>5.483331e-06</td>\n",
       "      <td>2.091768e-06</td>\n",
       "      <td>4.222639e-08</td>\n",
       "      <td>0.985993</td>\n",
       "      <td>1.038294e-07</td>\n",
       "    </tr>\n",
       "    <tr>\n",
       "      <th>4</th>\n",
       "      <td>unknown/img_100000.jpg</td>\n",
       "      <td>4.752517e-03</td>\n",
       "      <td>6.385883e-04</td>\n",
       "      <td>3.757137e-03</td>\n",
       "      <td>5.996618e-01</td>\n",
       "      <td>5.530323e-02</td>\n",
       "      <td>3.357163e-05</td>\n",
       "      <td>1.182646e-02</td>\n",
       "      <td>1.786151e-06</td>\n",
       "      <td>0.293674</td>\n",
       "      <td>3.035127e-02</td>\n",
       "    </tr>\n",
       "  </tbody>\n",
       "</table>\n",
       "</div>"
      ],
      "text/plain": [
       "                      img            c0            c1            c2  \\\n",
       "0       unknown/img_1.jpg  1.048789e-05  9.500974e-05  6.204220e-04   \n",
       "1      unknown/img_10.jpg  2.243764e-01  1.297860e-03  6.529220e-07   \n",
       "2     unknown/img_100.jpg  9.649227e-01  3.491086e-02  3.665324e-10   \n",
       "3    unknown/img_1000.jpg  8.633835e-09  1.010079e-08  8.227801e-05   \n",
       "4  unknown/img_100000.jpg  4.752517e-03  6.385883e-04  3.757137e-03   \n",
       "\n",
       "             c3            c4            c5            c6            c7  \\\n",
       "0  5.290291e-04  5.379053e-05  3.208719e-01  8.911347e-07  6.649228e-05   \n",
       "1  6.650519e-06  7.053635e-01  8.519089e-03  4.642937e-03  3.558198e-06   \n",
       "2  9.536329e-14  3.299019e-10  4.643474e-09  8.743167e-07  1.611529e-04   \n",
       "3  8.352095e-07  1.391661e-02  5.483331e-06  2.091768e-06  4.222639e-08   \n",
       "4  5.996618e-01  5.530323e-02  3.357163e-05  1.182646e-02  1.786151e-06   \n",
       "\n",
       "         c8            c9  \n",
       "0  0.147463  5.302886e-01  \n",
       "1  0.051927  3.862250e-03  \n",
       "2  0.000004  6.297035e-07  \n",
       "3  0.985993  1.038294e-07  \n",
       "4  0.293674  3.035127e-02  "
      ]
     },
     "execution_count": 15,
     "metadata": {},
     "output_type": "execute_result"
    }
   ],
   "source": [
    "import pandas as pd\n",
    "result_cols = ['c'+str(i) for i in np.arange(10)]\n",
    "df_results = pd.concat(\n",
    "    [pd.DataFrame(test_batches.filenames, columns=['img']),\n",
    "    pd.DataFrame(test_proba,columns=result_cols)], axis=1\n",
    ")\n",
    "print (df_results.shape)\n",
    "df_results.head()"
   ]
  },
  {
   "cell_type": "code",
   "execution_count": 16,
   "metadata": {
    "collapsed": false
   },
   "outputs": [
    {
     "data": {
      "text/html": [
       "<a href='data/results/3subjects_validation_1epoch_submission2.csv' target='_blank'>data/results/3subjects_validation_1epoch_submission2.csv</a><br>"
      ],
      "text/plain": [
       "/home/ubuntu/distracted_driver/data/results/3subjects_validation_1epoch_submission2.csv"
      ]
     },
     "execution_count": 16,
     "metadata": {},
     "output_type": "execute_result"
    }
   ],
   "source": [
    "# removing the unknown tag from the image name\n",
    "df_results['img'] = df_results.img.apply(lambda x:x.split('/')[1])\n",
    "\n",
    "# save to results\n",
    "df_results.to_csv(results_path+'3subjects_validation_1epoch_submission2.csv',index=False)\n",
    "\n",
    "from IPython.display import FileLink\n",
    "FileLink(results_path+'3subjects_validation_1epoch_submission2.csv')"
   ]
  },
  {
   "cell_type": "markdown",
   "metadata": {},
   "source": [
    "This results in a score of 2.02692. Minor improvement over previous, but still need A LOT of work."
   ]
  }
 ],
 "metadata": {
  "anaconda-cloud": {},
  "kernelspec": {
   "display_name": "Python [conda root]",
   "language": "python",
   "name": "conda-root-py"
  },
  "language_info": {
   "codemirror_mode": {
    "name": "ipython",
    "version": 2
   },
   "file_extension": ".py",
   "mimetype": "text/x-python",
   "name": "python",
   "nbconvert_exporter": "python",
   "pygments_lexer": "ipython2",
   "version": "2.7.12"
  }
 },
 "nbformat": 4,
 "nbformat_minor": 1
}
