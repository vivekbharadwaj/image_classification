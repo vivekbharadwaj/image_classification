{
 "cells": [
  {
   "cell_type": "markdown",
   "metadata": {},
   "source": [
    "**What I want to do: **Play the statefarm distracted driver competition on kaggle by fine-tuning a pretrained deep learning model, specifically the Vgg16 model.\n",
    "\n",
    "In this notebook, I'll be training and fine-tuning the model. At the end of it, I want to have the weights so that I can run predictions on the validation and test set in subsequent notebooks."
   ]
  },
  {
   "cell_type": "markdown",
   "metadata": {},
   "source": [
    "## Admin stuff"
   ]
  },
  {
   "cell_type": "code",
   "execution_count": 1,
   "metadata": {
    "collapsed": true
   },
   "outputs": [],
   "source": [
    "%matplotlib inline"
   ]
  },
  {
   "cell_type": "code",
   "execution_count": 2,
   "metadata": {
    "collapsed": true
   },
   "outputs": [],
   "source": [
    "from __future__ import division, print_function\n",
    "\n",
    "import os, json\n",
    "from glob import glob\n",
    "import numpy as np\n",
    "np.set_printoptions(precision=4, linewidth=100)\n",
    "from matplotlib import pyplot as plt\n",
    "from datetime import datetime\n",
    "import re"
   ]
  },
  {
   "cell_type": "markdown",
   "metadata": {},
   "source": [
    "Load Jeremy's utils.py..I need to wean off these utilities ( at least understand them fully)."
   ]
  },
  {
   "cell_type": "code",
   "execution_count": 3,
   "metadata": {
    "collapsed": false
   },
   "outputs": [
    {
     "name": "stderr",
     "output_type": "stream",
     "text": [
      "WARNING (theano.sandbox.cuda): The cuda backend is deprecated and will be removed in the next release (v0.10).  Please switch to the gpuarray backend. You can get more information about how to switch at this URL:\n",
      " https://github.com/Theano/Theano/wiki/Converting-to-the-new-gpu-back-end%28gpuarray%29\n",
      "\n",
      "Using gpu device 0: Tesla K80 (CNMeM is disabled, cuDNN 5103)\n",
      "Using Theano backend.\n"
     ]
    }
   ],
   "source": [
    "import utils; reload(utils)\n",
    "from utils import plots\n",
    "from utils import save_array, load_array"
   ]
  },
  {
   "cell_type": "code",
   "execution_count": 4,
   "metadata": {
    "collapsed": true
   },
   "outputs": [],
   "source": [
    "# define locations for training, validation, test and sample sets\n",
    "data_dir = \"data\"\n",
    "train_path = \"data/train/\"\n",
    "test_path = \"data/test/\"\n",
    "validation_path = \"data/valid/\"\n",
    "sample_train_path = \"data/sample/train/\"\n",
    "sample_validation_path = \"data/sample/valid/\"\n",
    "results_path = \"data/results/\""
   ]
  },
  {
   "cell_type": "markdown",
   "metadata": {},
   "source": [
    "## Run punchline code to train sample model"
   ]
  },
  {
   "cell_type": "code",
   "execution_count": 17,
   "metadata": {
    "collapsed": true
   },
   "outputs": [],
   "source": [
    "batch_size = 64"
   ]
  },
  {
   "cell_type": "code",
   "execution_count": 18,
   "metadata": {
    "collapsed": true
   },
   "outputs": [],
   "source": [
    "# import the vgg16 model\n",
    "\n",
    "#import\n",
    "import vgg16; reload(vgg16)\n",
    "from vgg16 import Vgg16\n",
    "\n",
    "#instantiate\n",
    "vgg = Vgg16()"
   ]
  },
  {
   "cell_type": "code",
   "execution_count": 19,
   "metadata": {
    "collapsed": false
   },
   "outputs": [
    {
     "name": "stdout",
     "output_type": "stream",
     "text": [
      "Found 171 images belonging to 10 classes.\n",
      "Found 40 images belonging to 10 classes.\n",
      "Epoch 1/5\n",
      "171/171 [==============================] - 6s - loss: 6.3194 - acc: 0.1111 - val_loss: 3.0013 - val_acc: 0.2500\n",
      "Epoch 2/5\n",
      "171/171 [==============================] - 5s - loss: 5.3055 - acc: 0.2222 - val_loss: 2.8242 - val_acc: 0.2500\n",
      "Epoch 3/5\n",
      "171/171 [==============================] - 5s - loss: 3.5998 - acc: 0.2690 - val_loss: 2.6058 - val_acc: 0.2500\n",
      "Epoch 4/5\n",
      "171/171 [==============================] - 5s - loss: 2.8587 - acc: 0.4035 - val_loss: 2.4795 - val_acc: 0.2500\n",
      "Epoch 5/5\n",
      "171/171 [==============================] - 5s - loss: 2.5540 - acc: 0.4327 - val_loss: 2.4450 - val_acc: 0.3500\n"
     ]
    }
   ],
   "source": [
    "# Grab a few images at a time for training and validation.\n",
    "# NB: They must be in subdirectories named based on their category\n",
    "batches = vgg.get_batches(sample_train_path, batch_size=batch_size)\n",
    "val_batches = vgg.get_batches(sample_validation_path, batch_size=batch_size*2)\n",
    "vgg.finetune(batches)\n",
    "vgg.fit(batches, val_batches, nb_epoch=5)"
   ]
  },
  {
   "cell_type": "markdown",
   "metadata": {},
   "source": [
    "## Now run on the entire training/ validation set"
   ]
  },
  {
   "cell_type": "code",
   "execution_count": 20,
   "metadata": {
    "collapsed": true
   },
   "outputs": [],
   "source": [
    "batch_size=64"
   ]
  },
  {
   "cell_type": "code",
   "execution_count": 21,
   "metadata": {
    "collapsed": true
   },
   "outputs": [],
   "source": [
    "# import the vgg16 model\n",
    "\n",
    "#import\n",
    "import vgg16; reload(vgg16)\n",
    "from vgg16 import Vgg16\n",
    "\n",
    "#instantiate\n",
    "vgg = Vgg16()"
   ]
  },
  {
   "cell_type": "code",
   "execution_count": 22,
   "metadata": {
    "collapsed": false
   },
   "outputs": [
    {
     "name": "stdout",
     "output_type": "stream",
     "text": [
      "Found 17685 images belonging to 10 classes.\n",
      "Found 4739 images belonging to 10 classes.\n",
      "timedelta =  0:00:00\n"
     ]
    }
   ],
   "source": [
    "# start logging time to execute\n",
    "starttime = datetime.now().strftime('%Y-%m-%d %H:%M:%S')\n",
    "\n",
    "batches = vgg.get_batches(train_path, batch_size=batch_size)\n",
    "val_batches = vgg.get_batches(validation_path, batch_size=batch_size*2)\n",
    "\n",
    "# log time for when the process ends\n",
    "endtime = datetime.now().strftime('%Y-%m-%d %H:%M:%S')\n",
    "print (\"timedelta = \", datetime.strptime(endtime,'%Y-%m-%d %H:%M:%S') - datetime.strptime(starttime,'%Y-%m-%d %H:%M:%S'))"
   ]
  },
  {
   "cell_type": "code",
   "execution_count": 23,
   "metadata": {
    "collapsed": false
   },
   "outputs": [
    {
     "name": "stdout",
     "output_type": "stream",
     "text": [
      "timedelta =  0:00:00\n"
     ]
    }
   ],
   "source": [
    "# start logging time to execute\n",
    "starttime = datetime.now().strftime('%Y-%m-%d %H:%M:%S')\n",
    "\n",
    "vgg.finetune(batches)\n",
    "\n",
    "# log time for when the process ends\n",
    "endtime = datetime.now().strftime('%Y-%m-%d %H:%M:%S')\n",
    "print (\"timedelta = \", datetime.strptime(endtime,'%Y-%m-%d %H:%M:%S') - datetime.strptime(starttime,'%Y-%m-%d %H:%M:%S'))"
   ]
  },
  {
   "cell_type": "code",
   "execution_count": 24,
   "metadata": {
    "collapsed": false
   },
   "outputs": [
    {
     "name": "stdout",
     "output_type": "stream",
     "text": [
      "Epoch 1/1\n",
      "17685/17685 [==============================] - 550s - loss: 1.8357 - acc: 0.6185 - val_loss: 1.9881 - val_acc: 0.5315\n",
      "timedelta =  0:09:20\n"
     ]
    }
   ],
   "source": [
    "# start logging time to execute\n",
    "starttime = datetime.now().strftime('%Y-%m-%d %H:%M:%S')\n",
    "\n",
    "vgg.fit(batches, val_batches, nb_epoch=1)\n",
    "\n",
    "# log time for when the process ends\n",
    "endtime = datetime.now().strftime('%Y-%m-%d %H:%M:%S')\n",
    "print (\"timedelta = \", datetime.strptime(endtime,'%Y-%m-%d %H:%M:%S') - datetime.strptime(starttime,'%Y-%m-%d %H:%M:%S'))"
   ]
  },
  {
   "cell_type": "code",
   "execution_count": 25,
   "metadata": {
    "collapsed": true
   },
   "outputs": [],
   "source": [
    "# if results path doesnt exist, make one!\n",
    "if not os.path.isdir(results_path):\n",
    "    !mkdir $results_path"
   ]
  },
  {
   "cell_type": "code",
   "execution_count": 27,
   "metadata": {
    "collapsed": false
   },
   "outputs": [],
   "source": [
    "# save weights of the 1st epoch\n",
    "vgg.model.save_weights(results_path+'ft_1epoch.h5')"
   ]
  },
  {
   "cell_type": "code",
   "execution_count": 28,
   "metadata": {
    "collapsed": false
   },
   "outputs": [
    {
     "name": "stdout",
     "output_type": "stream",
     "text": [
      "Epoch 1/1\n",
      "17685/17685 [==============================] - 550s - loss: 0.8718 - acc: 0.7981 - val_loss: 2.9505 - val_acc: 0.4668\n",
      "timedelta =  0:09:10\n"
     ]
    }
   ],
   "source": [
    "# go another epoch and see how much val acc changes\n",
    "# start logging time to execute\n",
    "starttime = datetime.now().strftime('%Y-%m-%d %H:%M:%S')\n",
    "\n",
    "vgg.fit(batches, val_batches, nb_epoch=1)\n",
    "\n",
    "# log time for when the process ends\n",
    "endtime = datetime.now().strftime('%Y-%m-%d %H:%M:%S')\n",
    "print (\"timedelta = \", datetime.strptime(endtime,'%Y-%m-%d %H:%M:%S') - datetime.strptime(starttime,'%Y-%m-%d %H:%M:%S'))"
   ]
  },
  {
   "cell_type": "code",
   "execution_count": 29,
   "metadata": {
    "collapsed": true
   },
   "outputs": [],
   "source": [
    "# save weights of the 2nd epoch\n",
    "vgg.model.save_weights(results_path+'ft_2epoch.h5')"
   ]
  },
  {
   "cell_type": "code",
   "execution_count": 30,
   "metadata": {
    "collapsed": false
   },
   "outputs": [
    {
     "name": "stdout",
     "output_type": "stream",
     "text": [
      "Epoch 1/1\n",
      "17685/17685 [==============================] - 549s - loss: 0.7057 - acc: 0.8340 - val_loss: 3.9138 - val_acc: 0.4368\n"
     ]
    }
   ],
   "source": [
    "vgg.fit(batches, val_batches, nb_epoch=1)"
   ]
  },
  {
   "cell_type": "code",
   "execution_count": 31,
   "metadata": {
    "collapsed": true
   },
   "outputs": [],
   "source": [
    "# save weights of the 3rd epoch\n",
    "vgg.model.save_weights(results_path+'ft_3epoch.h5')"
   ]
  }
 ],
 "metadata": {
  "anaconda-cloud": {},
  "kernelspec": {
   "display_name": "Python [conda root]",
   "language": "python",
   "name": "conda-root-py"
  },
  "language_info": {
   "codemirror_mode": {
    "name": "ipython",
    "version": 2
   },
   "file_extension": ".py",
   "mimetype": "text/x-python",
   "name": "python",
   "nbconvert_exporter": "python",
   "pygments_lexer": "ipython2",
   "version": "2.7.12"
  }
 },
 "nbformat": 4,
 "nbformat_minor": 1
}
