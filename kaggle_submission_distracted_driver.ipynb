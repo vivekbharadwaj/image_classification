{
 "cells": [
  {
   "cell_type": "markdown",
   "metadata": {},
   "source": [
    "** What I want to do: ** Process test files for distracted driver and submit to kaggle"
   ]
  },
  {
   "cell_type": "markdown",
   "metadata": {},
   "source": [
    "## Admin stuff"
   ]
  },
  {
   "cell_type": "code",
   "execution_count": 1,
   "metadata": {
    "collapsed": true
   },
   "outputs": [],
   "source": [
    "%matplotlib inline"
   ]
  },
  {
   "cell_type": "code",
   "execution_count": 2,
   "metadata": {
    "collapsed": true
   },
   "outputs": [],
   "source": [
    "from __future__ import division, print_function\n",
    "\n",
    "import os, json\n",
    "from glob import glob\n",
    "import numpy as np\n",
    "np.set_printoptions(precision=4, linewidth=100)\n",
    "from matplotlib import pyplot as plt\n",
    "from datetime import datetime\n",
    "import re"
   ]
  },
  {
   "cell_type": "code",
   "execution_count": 3,
   "metadata": {
    "collapsed": true
   },
   "outputs": [],
   "source": [
    "data_dir = \"data\"\n",
    "train_path = \"data/train/\"\n",
    "test_path = \"data/test/\"\n",
    "validation_path = \"data/valid/\"\n",
    "sample_train_path = \"data/sample/train/\"\n",
    "sample_validation_path = \"data/sample/valid/\"\n",
    "results_path = \"data/results/\""
   ]
  },
  {
   "cell_type": "code",
   "execution_count": 4,
   "metadata": {
    "collapsed": false
   },
   "outputs": [
    {
     "name": "stderr",
     "output_type": "stream",
     "text": [
      "WARNING (theano.sandbox.cuda): The cuda backend is deprecated and will be removed in the next release (v0.10).  Please switch to the gpuarray backend. You can get more information about how to switch at this URL:\n",
      " https://github.com/Theano/Theano/wiki/Converting-to-the-new-gpu-back-end%28gpuarray%29\n",
      "\n",
      "Using gpu device 0: Tesla K80 (CNMeM is disabled, cuDNN 5103)\n",
      "Using Theano backend.\n"
     ]
    }
   ],
   "source": [
    "# some useful utilities and the vgg16 model\n",
    "import utils; reload(utils)\n",
    "from utils import plots\n",
    "from utils import save_array, load_array"
   ]
  },
  {
   "cell_type": "code",
   "execution_count": 5,
   "metadata": {
    "collapsed": true
   },
   "outputs": [],
   "source": [
    "# import the vgg16 model\n",
    "import vgg16; reload(vgg16)\n",
    "from vgg16 import Vgg16, image"
   ]
  },
  {
   "cell_type": "markdown",
   "metadata": {},
   "source": [
    "## Load model weights\n"
   ]
  },
  {
   "cell_type": "code",
   "execution_count": 6,
   "metadata": {
    "collapsed": false
   },
   "outputs": [
    {
     "name": "stderr",
     "output_type": "stream",
     "text": [
      "/home/ubuntu/anaconda2/lib/python2.7/site-packages/keras/backend/theano_backend.py:1500: UserWarning: DEPRECATION: the 'ds' parameter is not going to exist anymore as it is going to be replaced by the parameter 'ws'.\n",
      "  mode='max')\n",
      "/home/ubuntu/anaconda2/lib/python2.7/site-packages/keras/backend/theano_backend.py:1500: UserWarning: DEPRECATION: the 'st' parameter is not going to exist anymore as it is going to be replaced by the parameter 'stride'.\n",
      "  mode='max')\n",
      "/home/ubuntu/anaconda2/lib/python2.7/site-packages/keras/backend/theano_backend.py:1500: UserWarning: DEPRECATION: the 'padding' parameter is not going to exist anymore as it is going to be replaced by the parameter 'pad'.\n",
      "  mode='max')\n"
     ]
    }
   ],
   "source": [
    "# instantiate the vgg16 model\n",
    "vgg = Vgg16()"
   ]
  },
  {
   "cell_type": "code",
   "execution_count": 7,
   "metadata": {
    "collapsed": false
   },
   "outputs": [
    {
     "ename": "SyntaxError",
     "evalue": "invalid syntax (<ipython-input-7-eab88767a934>, line 1)",
     "output_type": "error",
     "traceback": [
      "\u001b[0;36m  File \u001b[0;32m\"<ipython-input-7-eab88767a934>\"\u001b[0;36m, line \u001b[0;32m1\u001b[0m\n\u001b[0;31m    Fork here. The trained model was fit on the test set once. The results are saved in \"test_preds.dat\" in the results path. For subsequent runs, simply load the results.\u001b[0m\n\u001b[0m            ^\u001b[0m\n\u001b[0;31mSyntaxError\u001b[0m\u001b[0;31m:\u001b[0m invalid syntax\n"
     ]
    }
   ],
   "source": [
    "Fork here. The trained model was fit on the test set once. The results are saved in \"test_preds.dat\" in the results path. For subsequent runs, simply load the results."
   ]
  },
  {
   "cell_type": "code",
   "execution_count": 7,
   "metadata": {
    "collapsed": true
   },
   "outputs": [],
   "source": [
    "vgg.model.load_weights(results_path+'ft_1epoch.h5')"
   ]
  },
  {
   "cell_type": "markdown",
   "metadata": {},
   "source": [
    "## Run model against test set"
   ]
  },
  {
   "cell_type": "code",
   "execution_count": 9,
   "metadata": {
    "collapsed": false
   },
   "outputs": [
    {
     "data": {
      "text/plain": [
       "79726"
      ]
     },
     "execution_count": 9,
     "metadata": {},
     "output_type": "execute_result"
    }
   ],
   "source": [
    "# for the vgg.test method to run, all images need to be part of another class.\n",
    "# Lets call it 'unknown'\n",
    "len(os.listdir(test_path))"
   ]
  },
  {
   "cell_type": "code",
   "execution_count": 13,
   "metadata": {
    "collapsed": true
   },
   "outputs": [],
   "source": [
    "tempdir = test_path+'unknown'\n",
    "!mkdir $tempdir"
   ]
  },
  {
   "cell_type": "code",
   "execution_count": 21,
   "metadata": {
    "collapsed": false
   },
   "outputs": [
    {
     "name": "stdout",
     "output_type": "stream",
     "text": [
      "17962 images moved to unknown folder.\n"
     ]
    }
   ],
   "source": [
    "img_mv_counter = 0\n",
    "for img in os.listdir(test_path):\n",
    "    if os.path.isfile(os.path.join(test_path,img)):\n",
    "        os.rename(os.path.join(test_path,img),os.path.join(test_path,'unknown',img))\n",
    "        img_mv_counter+=1\n",
    "print (\"{} images moved to unknown folder.\".format(str(img_mv_counter)))"
   ]
  },
  {
   "cell_type": "code",
   "execution_count": 22,
   "metadata": {
    "collapsed": false
   },
   "outputs": [
    {
     "name": "stdout",
     "output_type": "stream",
     "text": [
      "Found 79726 images belonging to 1 classes.\n",
      "timedelta =  0:32:13\n"
     ]
    }
   ],
   "source": [
    "# start logging time to execute\n",
    "starttime = datetime.now().strftime('%Y-%m-%d %H:%M:%S')\n",
    "\n",
    "test_batches, test_proba = vgg.test(test_path, batch_size = 64)\n",
    "\n",
    "# log time for when the process ends\n",
    "endtime = datetime.now().strftime('%Y-%m-%d %H:%M:%S')\n",
    "print (\"timedelta = \", datetime.strptime(endtime,'%Y-%m-%d %H:%M:%S') - datetime.strptime(starttime,'%Y-%m-%d %H:%M:%S'))"
   ]
  },
  {
   "cell_type": "markdown",
   "metadata": {},
   "source": [
    "## Build submission from predicted probabilities"
   ]
  },
  {
   "cell_type": "code",
   "execution_count": 23,
   "metadata": {
    "collapsed": false
   },
   "outputs": [
    {
     "data": {
      "text/plain": [
       "['unknown/img_1.jpg',\n",
       " 'unknown/img_10.jpg',\n",
       " 'unknown/img_100.jpg',\n",
       " 'unknown/img_1000.jpg',\n",
       " 'unknown/img_100000.jpg',\n",
       " 'unknown/img_100001.jpg',\n",
       " 'unknown/img_100002.jpg',\n",
       " 'unknown/img_100003.jpg',\n",
       " 'unknown/img_100004.jpg',\n",
       " 'unknown/img_100005.jpg']"
      ]
     },
     "execution_count": 23,
     "metadata": {},
     "output_type": "execute_result"
    }
   ],
   "source": [
    "# get filenames for each validation set\n",
    "filenames = test_batches.filenames\n",
    "filenames[:10]"
   ]
  },
  {
   "cell_type": "code",
   "execution_count": 25,
   "metadata": {
    "collapsed": false
   },
   "outputs": [
    {
     "data": {
      "text/plain": [
       "79726"
      ]
     },
     "execution_count": 25,
     "metadata": {},
     "output_type": "execute_result"
    }
   ],
   "source": [
    "len(filenames)"
   ]
  },
  {
   "cell_type": "code",
   "execution_count": 26,
   "metadata": {
    "collapsed": false
   },
   "outputs": [
    {
     "data": {
      "text/plain": [
       "(79726, 10)"
      ]
     },
     "execution_count": 26,
     "metadata": {},
     "output_type": "execute_result"
    }
   ],
   "source": [
    "test_proba.shape"
   ]
  },
  {
   "cell_type": "code",
   "execution_count": 27,
   "metadata": {
    "collapsed": false
   },
   "outputs": [
    {
     "data": {
      "text/plain": [
       "array([[  6.0330e-03,   6.2223e-03,   2.8167e-03,   3.5212e-04,   6.0967e-04,   1.8071e-01,\n",
       "          5.2517e-06,   6.0826e-04,   7.3298e-01,   6.9665e-02],\n",
       "       [  9.9047e-01,   1.2519e-04,   1.5722e-05,   4.6743e-06,   4.2948e-03,   1.7472e-03,\n",
       "          2.7635e-04,   3.4640e-06,   9.6088e-05,   2.9628e-03]], dtype=float32)"
      ]
     },
     "execution_count": 27,
     "metadata": {},
     "output_type": "execute_result"
    }
   ],
   "source": [
    "# taking a look at the first 2...\n",
    "test_proba[0:2,:]"
   ]
  },
  {
   "cell_type": "code",
   "execution_count": 28,
   "metadata": {
    "collapsed": true
   },
   "outputs": [],
   "source": [
    "save_array(results_path + 'test_preds.dat', test_proba)\n",
    "save_array(results_path + 'filenames.dat', filenames)"
   ]
  },
  {
   "cell_type": "markdown",
   "metadata": {
    "collapsed": true
   },
   "source": [
    "## Load predictions on the test set"
   ]
  },
  {
   "cell_type": "code",
   "execution_count": 8,
   "metadata": {
    "collapsed": false
   },
   "outputs": [
    {
     "data": {
      "text/plain": [
       "(79726,)"
      ]
     },
     "execution_count": 8,
     "metadata": {},
     "output_type": "execute_result"
    }
   ],
   "source": [
    "filenames = load_array(results_path + 'filenames.dat')\n",
    "filenames.shape"
   ]
  },
  {
   "cell_type": "code",
   "execution_count": 9,
   "metadata": {
    "collapsed": false
   },
   "outputs": [
    {
     "data": {
      "text/plain": [
       "(79726, 10)"
      ]
     },
     "execution_count": 9,
     "metadata": {},
     "output_type": "execute_result"
    }
   ],
   "source": [
    "test_proba = load_array(results_path + 'test_preds.dat')\n",
    "test_proba.shape"
   ]
  },
  {
   "cell_type": "code",
   "execution_count": 10,
   "metadata": {
    "collapsed": true
   },
   "outputs": [],
   "source": [
    "import pandas as pd"
   ]
  },
  {
   "cell_type": "code",
   "execution_count": 11,
   "metadata": {
    "collapsed": false
   },
   "outputs": [
    {
     "data": {
      "text/plain": [
       "['c0', 'c1', 'c2', 'c3', 'c4', 'c5', 'c6', 'c7', 'c8', 'c9']"
      ]
     },
     "execution_count": 11,
     "metadata": {},
     "output_type": "execute_result"
    }
   ],
   "source": [
    "result_cols = ['c'+str(i) for i in np.arange(10)]\n",
    "result_cols"
   ]
  },
  {
   "cell_type": "code",
   "execution_count": 12,
   "metadata": {
    "collapsed": false
   },
   "outputs": [
    {
     "name": "stdout",
     "output_type": "stream",
     "text": [
      "(79726, 11)\n"
     ]
    },
    {
     "data": {
      "text/html": [
       "<div>\n",
       "<table border=\"1\" class=\"dataframe\">\n",
       "  <thead>\n",
       "    <tr style=\"text-align: right;\">\n",
       "      <th></th>\n",
       "      <th>img</th>\n",
       "      <th>c0</th>\n",
       "      <th>c1</th>\n",
       "      <th>c2</th>\n",
       "      <th>c3</th>\n",
       "      <th>c4</th>\n",
       "      <th>c5</th>\n",
       "      <th>c6</th>\n",
       "      <th>c7</th>\n",
       "      <th>c8</th>\n",
       "      <th>c9</th>\n",
       "    </tr>\n",
       "  </thead>\n",
       "  <tbody>\n",
       "    <tr>\n",
       "      <th>0</th>\n",
       "      <td>unknown/img_1.jpg</td>\n",
       "      <td>6.032987e-03</td>\n",
       "      <td>6.222323e-03</td>\n",
       "      <td>2.816721e-03</td>\n",
       "      <td>3.521241e-04</td>\n",
       "      <td>6.096693e-04</td>\n",
       "      <td>1.807119e-01</td>\n",
       "      <td>5.251669e-06</td>\n",
       "      <td>6.082557e-04</td>\n",
       "      <td>0.732976</td>\n",
       "      <td>0.069665</td>\n",
       "    </tr>\n",
       "    <tr>\n",
       "      <th>1</th>\n",
       "      <td>unknown/img_10.jpg</td>\n",
       "      <td>9.904737e-01</td>\n",
       "      <td>1.251865e-04</td>\n",
       "      <td>1.572199e-05</td>\n",
       "      <td>4.674284e-06</td>\n",
       "      <td>4.294755e-03</td>\n",
       "      <td>1.747155e-03</td>\n",
       "      <td>2.763456e-04</td>\n",
       "      <td>3.464006e-06</td>\n",
       "      <td>0.000096</td>\n",
       "      <td>0.002963</td>\n",
       "    </tr>\n",
       "    <tr>\n",
       "      <th>2</th>\n",
       "      <td>unknown/img_100.jpg</td>\n",
       "      <td>1.362209e-02</td>\n",
       "      <td>9.830527e-01</td>\n",
       "      <td>2.594683e-10</td>\n",
       "      <td>8.205414e-16</td>\n",
       "      <td>1.933659e-10</td>\n",
       "      <td>8.799974e-11</td>\n",
       "      <td>6.640742e-08</td>\n",
       "      <td>3.303141e-03</td>\n",
       "      <td>0.000020</td>\n",
       "      <td>0.000002</td>\n",
       "    </tr>\n",
       "    <tr>\n",
       "      <th>3</th>\n",
       "      <td>unknown/img_1000.jpg</td>\n",
       "      <td>8.803302e-11</td>\n",
       "      <td>5.876022e-10</td>\n",
       "      <td>4.455612e-05</td>\n",
       "      <td>7.126668e-08</td>\n",
       "      <td>1.381636e-03</td>\n",
       "      <td>2.014804e-06</td>\n",
       "      <td>1.270227e-06</td>\n",
       "      <td>8.009474e-08</td>\n",
       "      <td>0.998563</td>\n",
       "      <td>0.000008</td>\n",
       "    </tr>\n",
       "    <tr>\n",
       "      <th>4</th>\n",
       "      <td>unknown/img_100000.jpg</td>\n",
       "      <td>2.422421e-02</td>\n",
       "      <td>1.017842e-03</td>\n",
       "      <td>2.111686e-01</td>\n",
       "      <td>6.267425e-01</td>\n",
       "      <td>7.430664e-02</td>\n",
       "      <td>1.001487e-03</td>\n",
       "      <td>8.054106e-03</td>\n",
       "      <td>4.135343e-05</td>\n",
       "      <td>0.031458</td>\n",
       "      <td>0.021985</td>\n",
       "    </tr>\n",
       "  </tbody>\n",
       "</table>\n",
       "</div>"
      ],
      "text/plain": [
       "                      img            c0            c1            c2  \\\n",
       "0       unknown/img_1.jpg  6.032987e-03  6.222323e-03  2.816721e-03   \n",
       "1      unknown/img_10.jpg  9.904737e-01  1.251865e-04  1.572199e-05   \n",
       "2     unknown/img_100.jpg  1.362209e-02  9.830527e-01  2.594683e-10   \n",
       "3    unknown/img_1000.jpg  8.803302e-11  5.876022e-10  4.455612e-05   \n",
       "4  unknown/img_100000.jpg  2.422421e-02  1.017842e-03  2.111686e-01   \n",
       "\n",
       "             c3            c4            c5            c6            c7  \\\n",
       "0  3.521241e-04  6.096693e-04  1.807119e-01  5.251669e-06  6.082557e-04   \n",
       "1  4.674284e-06  4.294755e-03  1.747155e-03  2.763456e-04  3.464006e-06   \n",
       "2  8.205414e-16  1.933659e-10  8.799974e-11  6.640742e-08  3.303141e-03   \n",
       "3  7.126668e-08  1.381636e-03  2.014804e-06  1.270227e-06  8.009474e-08   \n",
       "4  6.267425e-01  7.430664e-02  1.001487e-03  8.054106e-03  4.135343e-05   \n",
       "\n",
       "         c8        c9  \n",
       "0  0.732976  0.069665  \n",
       "1  0.000096  0.002963  \n",
       "2  0.000020  0.000002  \n",
       "3  0.998563  0.000008  \n",
       "4  0.031458  0.021985  "
      ]
     },
     "execution_count": 12,
     "metadata": {},
     "output_type": "execute_result"
    }
   ],
   "source": [
    "df_results = pd.concat(\n",
    "    [pd.DataFrame(filenames, columns=['img']),\n",
    "    pd.DataFrame(test_proba,columns=result_cols)], axis=1\n",
    ")\n",
    "print (df_results.shape)\n",
    "df_results.head()"
   ]
  },
  {
   "cell_type": "code",
   "execution_count": 13,
   "metadata": {
    "collapsed": false
   },
   "outputs": [
    {
     "data": {
      "text/html": [
       "<div>\n",
       "<table border=\"1\" class=\"dataframe\">\n",
       "  <thead>\n",
       "    <tr style=\"text-align: right;\">\n",
       "      <th></th>\n",
       "      <th>img</th>\n",
       "      <th>c0</th>\n",
       "      <th>c1</th>\n",
       "      <th>c2</th>\n",
       "      <th>c3</th>\n",
       "      <th>c4</th>\n",
       "      <th>c5</th>\n",
       "      <th>c6</th>\n",
       "      <th>c7</th>\n",
       "      <th>c8</th>\n",
       "      <th>c9</th>\n",
       "    </tr>\n",
       "  </thead>\n",
       "  <tbody>\n",
       "    <tr>\n",
       "      <th>79721</th>\n",
       "      <td>img_99994.jpg</td>\n",
       "      <td>9.150860e-03</td>\n",
       "      <td>1.104862e-02</td>\n",
       "      <td>1.918663e-01</td>\n",
       "      <td>1.971925e-03</td>\n",
       "      <td>4.547592e-02</td>\n",
       "      <td>1.099859e-02</td>\n",
       "      <td>1.609442e-02</td>\n",
       "      <td>3.194277e-01</td>\n",
       "      <td>6.627248e-02</td>\n",
       "      <td>3.276932e-01</td>\n",
       "    </tr>\n",
       "    <tr>\n",
       "      <th>79722</th>\n",
       "      <td>img_99995.jpg</td>\n",
       "      <td>1.926638e-05</td>\n",
       "      <td>7.765095e-08</td>\n",
       "      <td>5.091511e-16</td>\n",
       "      <td>9.999774e-01</td>\n",
       "      <td>3.428230e-08</td>\n",
       "      <td>1.160470e-11</td>\n",
       "      <td>2.879609e-17</td>\n",
       "      <td>6.307523e-09</td>\n",
       "      <td>8.505614e-11</td>\n",
       "      <td>3.275786e-06</td>\n",
       "    </tr>\n",
       "    <tr>\n",
       "      <th>79723</th>\n",
       "      <td>img_99996.jpg</td>\n",
       "      <td>1.373344e-02</td>\n",
       "      <td>4.532043e-01</td>\n",
       "      <td>6.449986e-07</td>\n",
       "      <td>2.434272e-01</td>\n",
       "      <td>2.230072e-01</td>\n",
       "      <td>1.594015e-04</td>\n",
       "      <td>1.990736e-03</td>\n",
       "      <td>1.383538e-05</td>\n",
       "      <td>3.485508e-02</td>\n",
       "      <td>2.960822e-02</td>\n",
       "    </tr>\n",
       "    <tr>\n",
       "      <th>79724</th>\n",
       "      <td>img_99998.jpg</td>\n",
       "      <td>1.248660e-10</td>\n",
       "      <td>5.004015e-06</td>\n",
       "      <td>9.995346e-01</td>\n",
       "      <td>1.618402e-12</td>\n",
       "      <td>1.926214e-10</td>\n",
       "      <td>1.667080e-12</td>\n",
       "      <td>4.538681e-04</td>\n",
       "      <td>4.540726e-10</td>\n",
       "      <td>6.531322e-06</td>\n",
       "      <td>1.450134e-12</td>\n",
       "    </tr>\n",
       "    <tr>\n",
       "      <th>79725</th>\n",
       "      <td>img_99999.jpg</td>\n",
       "      <td>1.253184e-03</td>\n",
       "      <td>1.387787e-04</td>\n",
       "      <td>2.255472e-13</td>\n",
       "      <td>9.734587e-09</td>\n",
       "      <td>1.757611e-11</td>\n",
       "      <td>9.983570e-01</td>\n",
       "      <td>4.224954e-09</td>\n",
       "      <td>2.509316e-04</td>\n",
       "      <td>7.473914e-08</td>\n",
       "      <td>5.212592e-11</td>\n",
       "    </tr>\n",
       "  </tbody>\n",
       "</table>\n",
       "</div>"
      ],
      "text/plain": [
       "                 img            c0            c1            c2            c3  \\\n",
       "79721  img_99994.jpg  9.150860e-03  1.104862e-02  1.918663e-01  1.971925e-03   \n",
       "79722  img_99995.jpg  1.926638e-05  7.765095e-08  5.091511e-16  9.999774e-01   \n",
       "79723  img_99996.jpg  1.373344e-02  4.532043e-01  6.449986e-07  2.434272e-01   \n",
       "79724  img_99998.jpg  1.248660e-10  5.004015e-06  9.995346e-01  1.618402e-12   \n",
       "79725  img_99999.jpg  1.253184e-03  1.387787e-04  2.255472e-13  9.734587e-09   \n",
       "\n",
       "                 c4            c5            c6            c7            c8  \\\n",
       "79721  4.547592e-02  1.099859e-02  1.609442e-02  3.194277e-01  6.627248e-02   \n",
       "79722  3.428230e-08  1.160470e-11  2.879609e-17  6.307523e-09  8.505614e-11   \n",
       "79723  2.230072e-01  1.594015e-04  1.990736e-03  1.383538e-05  3.485508e-02   \n",
       "79724  1.926214e-10  1.667080e-12  4.538681e-04  4.540726e-10  6.531322e-06   \n",
       "79725  1.757611e-11  9.983570e-01  4.224954e-09  2.509316e-04  7.473914e-08   \n",
       "\n",
       "                 c9  \n",
       "79721  3.276932e-01  \n",
       "79722  3.275786e-06  \n",
       "79723  2.960822e-02  \n",
       "79724  1.450134e-12  \n",
       "79725  5.212592e-11  "
      ]
     },
     "execution_count": 13,
     "metadata": {},
     "output_type": "execute_result"
    }
   ],
   "source": [
    "# removing the unknown tag from the image name\n",
    "df_results['img'] = df_results.img.apply(lambda x:x.split('/')[1])\n",
    "df_results.tail()"
   ]
  },
  {
   "cell_type": "code",
   "execution_count": 14,
   "metadata": {
    "collapsed": true
   },
   "outputs": [],
   "source": [
    "# save to results\n",
    "df_results.to_csv(results_path+'1epoch_submission1.csv',index=False)"
   ]
  },
  {
   "cell_type": "code",
   "execution_count": 15,
   "metadata": {
    "collapsed": true
   },
   "outputs": [],
   "source": [
    "from IPython.display import FileLink"
   ]
  },
  {
   "cell_type": "code",
   "execution_count": 16,
   "metadata": {
    "collapsed": false
   },
   "outputs": [
    {
     "data": {
      "text/html": [
       "<a href='data/results/1epoch_submission1.csv' target='_blank'>data/results/1epoch_submission1.csv</a><br>"
      ],
      "text/plain": [
       "/home/ubuntu/distracted_driver/data/results/1epoch_submission1.csv"
      ]
     },
     "execution_count": 16,
     "metadata": {},
     "output_type": "execute_result"
    }
   ],
   "source": [
    "FileLink(results_path+'1epoch_submission1.csv')"
   ]
  },
  {
   "cell_type": "markdown",
   "metadata": {},
   "source": [
    "This resulted in an abyssmal score of 2.083 in private leaderboard, which was 1128 out of 1440 :|"
   ]
  }
 ],
 "metadata": {
  "anaconda-cloud": {},
  "kernelspec": {
   "display_name": "Python [conda root]",
   "language": "python",
   "name": "conda-root-py"
  },
  "language_info": {
   "codemirror_mode": {
    "name": "ipython",
    "version": 2
   },
   "file_extension": ".py",
   "mimetype": "text/x-python",
   "name": "python",
   "nbconvert_exporter": "python",
   "pygments_lexer": "ipython2",
   "version": "2.7.12"
  }
 },
 "nbformat": 4,
 "nbformat_minor": 1
}
